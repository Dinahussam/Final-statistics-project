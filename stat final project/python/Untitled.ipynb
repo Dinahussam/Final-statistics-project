{
 "cells": [
  {
   "cell_type": "code",
   "execution_count": 2,
   "id": "7a088bf7",
   "metadata": {},
   "outputs": [],
   "source": [
    "#import pandas library\n",
    "import numpy as np\n",
    "import pandas as pd\n",
    "import matplotlib.pyplot as plt\n",
    "from sklearn.metrics import confusion_matrix\n",
    "from sklearn.model_selection import train_test_split\n",
    "from sklearn.tree import DecisionTreeClassifier\n",
    "from sklearn.metrics import accuracy_score\n",
    "from sklearn.metrics import classification_report\n",
    "import seaborn as sns\n",
    "import warnings\n",
    "warnings.filterwarnings(\"ignore\")"
   ]
  },
  {
   "cell_type": "code",
   "execution_count": 3,
   "id": "f1458ea3",
   "metadata": {},
   "outputs": [],
   "source": [
    "#loading dataset\n",
    "df=pd.read_csv(\"diabetes.csv\")"
   ]
  },
  {
   "cell_type": "code",
   "execution_count": 4,
   "id": "ee607b8c",
   "metadata": {},
   "outputs": [],
   "source": [
    "df[\"gender\"]=(df[\"gender\"]==\"male\").astype(int)\n",
    "df[\"diabetes\"]=(df[\"diabetes\"]==\"Diabetes\").astype(int)\n",
    "df.drop([\"patient_number\"], axis=1, inplace=True)\n",
    "df[\"bmi\"] = df[\"bmi\"].str.replace(\",\",\".\").astype(float)\n",
    "df[\"waist_hip_ratio\"] = df[\"waist_hip_ratio\"].str.replace(\",\",\".\").astype(float) \n",
    "df[\"chol_hdl_ratio\"] = df[\"chol_hdl_ratio\"].str.replace(\",\",\".\").astype(float)"
   ]
  },
  {
   "cell_type": "code",
   "execution_count": 5,
   "id": "2327f344",
   "metadata": {},
   "outputs": [
    {
     "data": {
      "text/html": [
       "<div>\n",
       "<style scoped>\n",
       "    .dataframe tbody tr th:only-of-type {\n",
       "        vertical-align: middle;\n",
       "    }\n",
       "\n",
       "    .dataframe tbody tr th {\n",
       "        vertical-align: top;\n",
       "    }\n",
       "\n",
       "    .dataframe thead th {\n",
       "        text-align: right;\n",
       "    }\n",
       "</style>\n",
       "<table border=\"1\" class=\"dataframe\">\n",
       "  <thead>\n",
       "    <tr style=\"text-align: right;\">\n",
       "      <th></th>\n",
       "      <th>cholesterol</th>\n",
       "      <th>glucose</th>\n",
       "      <th>hdl_chol</th>\n",
       "      <th>chol_hdl_ratio</th>\n",
       "      <th>age</th>\n",
       "      <th>gender</th>\n",
       "      <th>height</th>\n",
       "      <th>weight</th>\n",
       "      <th>bmi</th>\n",
       "      <th>systolic_bp</th>\n",
       "      <th>diastolic_bp</th>\n",
       "      <th>waist</th>\n",
       "      <th>hip</th>\n",
       "      <th>waist_hip_ratio</th>\n",
       "      <th>diabetes</th>\n",
       "    </tr>\n",
       "  </thead>\n",
       "  <tbody>\n",
       "    <tr>\n",
       "      <th>0</th>\n",
       "      <td>193</td>\n",
       "      <td>77</td>\n",
       "      <td>49</td>\n",
       "      <td>3.9</td>\n",
       "      <td>19</td>\n",
       "      <td>0</td>\n",
       "      <td>61</td>\n",
       "      <td>119</td>\n",
       "      <td>22.5</td>\n",
       "      <td>118</td>\n",
       "      <td>70</td>\n",
       "      <td>32</td>\n",
       "      <td>38</td>\n",
       "      <td>0.84</td>\n",
       "      <td>0</td>\n",
       "    </tr>\n",
       "    <tr>\n",
       "      <th>1</th>\n",
       "      <td>146</td>\n",
       "      <td>79</td>\n",
       "      <td>41</td>\n",
       "      <td>3.6</td>\n",
       "      <td>19</td>\n",
       "      <td>0</td>\n",
       "      <td>60</td>\n",
       "      <td>135</td>\n",
       "      <td>26.4</td>\n",
       "      <td>108</td>\n",
       "      <td>58</td>\n",
       "      <td>33</td>\n",
       "      <td>40</td>\n",
       "      <td>0.83</td>\n",
       "      <td>0</td>\n",
       "    </tr>\n",
       "    <tr>\n",
       "      <th>2</th>\n",
       "      <td>217</td>\n",
       "      <td>75</td>\n",
       "      <td>54</td>\n",
       "      <td>4.0</td>\n",
       "      <td>20</td>\n",
       "      <td>0</td>\n",
       "      <td>67</td>\n",
       "      <td>187</td>\n",
       "      <td>29.3</td>\n",
       "      <td>110</td>\n",
       "      <td>72</td>\n",
       "      <td>40</td>\n",
       "      <td>45</td>\n",
       "      <td>0.89</td>\n",
       "      <td>0</td>\n",
       "    </tr>\n",
       "    <tr>\n",
       "      <th>3</th>\n",
       "      <td>226</td>\n",
       "      <td>97</td>\n",
       "      <td>70</td>\n",
       "      <td>3.2</td>\n",
       "      <td>20</td>\n",
       "      <td>0</td>\n",
       "      <td>64</td>\n",
       "      <td>114</td>\n",
       "      <td>19.6</td>\n",
       "      <td>122</td>\n",
       "      <td>64</td>\n",
       "      <td>31</td>\n",
       "      <td>39</td>\n",
       "      <td>0.79</td>\n",
       "      <td>0</td>\n",
       "    </tr>\n",
       "    <tr>\n",
       "      <th>4</th>\n",
       "      <td>164</td>\n",
       "      <td>91</td>\n",
       "      <td>67</td>\n",
       "      <td>2.4</td>\n",
       "      <td>20</td>\n",
       "      <td>0</td>\n",
       "      <td>70</td>\n",
       "      <td>141</td>\n",
       "      <td>20.2</td>\n",
       "      <td>122</td>\n",
       "      <td>86</td>\n",
       "      <td>32</td>\n",
       "      <td>39</td>\n",
       "      <td>0.82</td>\n",
       "      <td>0</td>\n",
       "    </tr>\n",
       "  </tbody>\n",
       "</table>\n",
       "</div>"
      ],
      "text/plain": [
       "   cholesterol  glucose  hdl_chol  chol_hdl_ratio  age  gender  height  \\\n",
       "0          193       77        49             3.9   19       0      61   \n",
       "1          146       79        41             3.6   19       0      60   \n",
       "2          217       75        54             4.0   20       0      67   \n",
       "3          226       97        70             3.2   20       0      64   \n",
       "4          164       91        67             2.4   20       0      70   \n",
       "\n",
       "   weight   bmi  systolic_bp  diastolic_bp  waist  hip  waist_hip_ratio  \\\n",
       "0     119  22.5          118            70     32   38             0.84   \n",
       "1     135  26.4          108            58     33   40             0.83   \n",
       "2     187  29.3          110            72     40   45             0.89   \n",
       "3     114  19.6          122            64     31   39             0.79   \n",
       "4     141  20.2          122            86     32   39             0.82   \n",
       "\n",
       "   diabetes  \n",
       "0         0  \n",
       "1         0  \n",
       "2         0  \n",
       "3         0  \n",
       "4         0  "
      ]
     },
     "execution_count": 5,
     "metadata": {},
     "output_type": "execute_result"
    }
   ],
   "source": [
    "df.head()"
   ]
  },
  {
   "cell_type": "code",
   "execution_count": 6,
   "id": "79e7493a",
   "metadata": {
    "scrolled": true
   },
   "outputs": [
    {
     "data": {
      "text/plain": [
       "(390, 15)"
      ]
     },
     "execution_count": 6,
     "metadata": {},
     "output_type": "execute_result"
    }
   ],
   "source": [
    "# dataset\n",
    "df.shape"
   ]
  },
  {
   "cell_type": "code",
   "execution_count": 7,
   "id": "8d4d2919",
   "metadata": {},
   "outputs": [
    {
     "data": {
      "text/plain": [
       "cholesterol        0\n",
       "glucose            0\n",
       "hdl_chol           0\n",
       "chol_hdl_ratio     0\n",
       "age                0\n",
       "gender             0\n",
       "height             0\n",
       "weight             0\n",
       "bmi                0\n",
       "systolic_bp        0\n",
       "diastolic_bp       0\n",
       "waist              0\n",
       "hip                0\n",
       "waist_hip_ratio    0\n",
       "diabetes           0\n",
       "dtype: int64"
      ]
     },
     "execution_count": 7,
     "metadata": {},
     "output_type": "execute_result"
    }
   ],
   "source": [
    "# dataset.head()\n",
    "df.isnull().sum()"
   ]
  },
  {
   "cell_type": "code",
   "execution_count": 8,
   "id": "eb042d0f",
   "metadata": {},
   "outputs": [
    {
     "name": "stdout",
     "output_type": "stream",
     "text": [
      "<class 'pandas.core.frame.DataFrame'>\n",
      "RangeIndex: 390 entries, 0 to 389\n",
      "Data columns (total 15 columns):\n",
      " #   Column           Non-Null Count  Dtype  \n",
      "---  ------           --------------  -----  \n",
      " 0   cholesterol      390 non-null    int64  \n",
      " 1   glucose          390 non-null    int64  \n",
      " 2   hdl_chol         390 non-null    int64  \n",
      " 3   chol_hdl_ratio   390 non-null    float64\n",
      " 4   age              390 non-null    int64  \n",
      " 5   gender           390 non-null    int32  \n",
      " 6   height           390 non-null    int64  \n",
      " 7   weight           390 non-null    int64  \n",
      " 8   bmi              390 non-null    float64\n",
      " 9   systolic_bp      390 non-null    int64  \n",
      " 10  diastolic_bp     390 non-null    int64  \n",
      " 11  waist            390 non-null    int64  \n",
      " 12  hip              390 non-null    int64  \n",
      " 13  waist_hip_ratio  390 non-null    float64\n",
      " 14  diabetes         390 non-null    int32  \n",
      "dtypes: float64(3), int32(2), int64(10)\n",
      "memory usage: 42.8 KB\n"
     ]
    }
   ],
   "source": [
    "df.info()"
   ]
  },
  {
   "cell_type": "code",
   "execution_count": 9,
   "id": "f588c47e",
   "metadata": {},
   "outputs": [
    {
     "data": {
      "text/html": [
       "<div>\n",
       "<style scoped>\n",
       "    .dataframe tbody tr th:only-of-type {\n",
       "        vertical-align: middle;\n",
       "    }\n",
       "\n",
       "    .dataframe tbody tr th {\n",
       "        vertical-align: top;\n",
       "    }\n",
       "\n",
       "    .dataframe thead th {\n",
       "        text-align: right;\n",
       "    }\n",
       "</style>\n",
       "<table border=\"1\" class=\"dataframe\">\n",
       "  <thead>\n",
       "    <tr style=\"text-align: right;\">\n",
       "      <th></th>\n",
       "      <th>cholesterol</th>\n",
       "      <th>glucose</th>\n",
       "      <th>hdl_chol</th>\n",
       "      <th>chol_hdl_ratio</th>\n",
       "      <th>age</th>\n",
       "      <th>gender</th>\n",
       "      <th>height</th>\n",
       "      <th>weight</th>\n",
       "      <th>bmi</th>\n",
       "      <th>systolic_bp</th>\n",
       "      <th>diastolic_bp</th>\n",
       "      <th>waist</th>\n",
       "      <th>hip</th>\n",
       "      <th>waist_hip_ratio</th>\n",
       "      <th>diabetes</th>\n",
       "    </tr>\n",
       "  </thead>\n",
       "  <tbody>\n",
       "    <tr>\n",
       "      <th>count</th>\n",
       "      <td>390.000000</td>\n",
       "      <td>390.000000</td>\n",
       "      <td>390.000000</td>\n",
       "      <td>390.000000</td>\n",
       "      <td>390.000000</td>\n",
       "      <td>390.000000</td>\n",
       "      <td>390.000000</td>\n",
       "      <td>390.000000</td>\n",
       "      <td>390.000000</td>\n",
       "      <td>390.000000</td>\n",
       "      <td>390.000000</td>\n",
       "      <td>390.000000</td>\n",
       "      <td>390.000000</td>\n",
       "      <td>390.000000</td>\n",
       "      <td>390.000000</td>\n",
       "    </tr>\n",
       "    <tr>\n",
       "      <th>mean</th>\n",
       "      <td>207.230769</td>\n",
       "      <td>107.338462</td>\n",
       "      <td>50.266667</td>\n",
       "      <td>4.524615</td>\n",
       "      <td>46.774359</td>\n",
       "      <td>0.415385</td>\n",
       "      <td>65.951282</td>\n",
       "      <td>177.407692</td>\n",
       "      <td>28.775641</td>\n",
       "      <td>137.133333</td>\n",
       "      <td>83.289744</td>\n",
       "      <td>37.869231</td>\n",
       "      <td>42.992308</td>\n",
       "      <td>0.881385</td>\n",
       "      <td>0.153846</td>\n",
       "    </tr>\n",
       "    <tr>\n",
       "      <th>std</th>\n",
       "      <td>44.666005</td>\n",
       "      <td>53.798188</td>\n",
       "      <td>17.279069</td>\n",
       "      <td>1.736634</td>\n",
       "      <td>16.435911</td>\n",
       "      <td>0.493421</td>\n",
       "      <td>3.918867</td>\n",
       "      <td>40.407824</td>\n",
       "      <td>6.600915</td>\n",
       "      <td>22.859528</td>\n",
       "      <td>13.498192</td>\n",
       "      <td>5.760947</td>\n",
       "      <td>5.664342</td>\n",
       "      <td>0.073212</td>\n",
       "      <td>0.361265</td>\n",
       "    </tr>\n",
       "    <tr>\n",
       "      <th>min</th>\n",
       "      <td>78.000000</td>\n",
       "      <td>48.000000</td>\n",
       "      <td>12.000000</td>\n",
       "      <td>1.500000</td>\n",
       "      <td>19.000000</td>\n",
       "      <td>0.000000</td>\n",
       "      <td>52.000000</td>\n",
       "      <td>99.000000</td>\n",
       "      <td>15.200000</td>\n",
       "      <td>90.000000</td>\n",
       "      <td>48.000000</td>\n",
       "      <td>26.000000</td>\n",
       "      <td>30.000000</td>\n",
       "      <td>0.680000</td>\n",
       "      <td>0.000000</td>\n",
       "    </tr>\n",
       "    <tr>\n",
       "      <th>25%</th>\n",
       "      <td>179.000000</td>\n",
       "      <td>81.000000</td>\n",
       "      <td>38.000000</td>\n",
       "      <td>3.200000</td>\n",
       "      <td>34.000000</td>\n",
       "      <td>0.000000</td>\n",
       "      <td>63.000000</td>\n",
       "      <td>150.250000</td>\n",
       "      <td>24.100000</td>\n",
       "      <td>122.000000</td>\n",
       "      <td>75.000000</td>\n",
       "      <td>33.000000</td>\n",
       "      <td>39.000000</td>\n",
       "      <td>0.830000</td>\n",
       "      <td>0.000000</td>\n",
       "    </tr>\n",
       "    <tr>\n",
       "      <th>50%</th>\n",
       "      <td>203.000000</td>\n",
       "      <td>90.000000</td>\n",
       "      <td>46.000000</td>\n",
       "      <td>4.200000</td>\n",
       "      <td>44.500000</td>\n",
       "      <td>0.000000</td>\n",
       "      <td>66.000000</td>\n",
       "      <td>173.000000</td>\n",
       "      <td>27.800000</td>\n",
       "      <td>136.000000</td>\n",
       "      <td>82.000000</td>\n",
       "      <td>37.000000</td>\n",
       "      <td>42.000000</td>\n",
       "      <td>0.880000</td>\n",
       "      <td>0.000000</td>\n",
       "    </tr>\n",
       "    <tr>\n",
       "      <th>75%</th>\n",
       "      <td>229.000000</td>\n",
       "      <td>107.750000</td>\n",
       "      <td>59.000000</td>\n",
       "      <td>5.400000</td>\n",
       "      <td>60.000000</td>\n",
       "      <td>1.000000</td>\n",
       "      <td>69.000000</td>\n",
       "      <td>200.000000</td>\n",
       "      <td>32.275000</td>\n",
       "      <td>148.000000</td>\n",
       "      <td>90.000000</td>\n",
       "      <td>41.000000</td>\n",
       "      <td>46.000000</td>\n",
       "      <td>0.930000</td>\n",
       "      <td>0.000000</td>\n",
       "    </tr>\n",
       "    <tr>\n",
       "      <th>max</th>\n",
       "      <td>443.000000</td>\n",
       "      <td>385.000000</td>\n",
       "      <td>120.000000</td>\n",
       "      <td>19.300000</td>\n",
       "      <td>92.000000</td>\n",
       "      <td>1.000000</td>\n",
       "      <td>76.000000</td>\n",
       "      <td>325.000000</td>\n",
       "      <td>55.800000</td>\n",
       "      <td>250.000000</td>\n",
       "      <td>124.000000</td>\n",
       "      <td>56.000000</td>\n",
       "      <td>64.000000</td>\n",
       "      <td>1.140000</td>\n",
       "      <td>1.000000</td>\n",
       "    </tr>\n",
       "  </tbody>\n",
       "</table>\n",
       "</div>"
      ],
      "text/plain": [
       "       cholesterol     glucose    hdl_chol  chol_hdl_ratio         age  \\\n",
       "count   390.000000  390.000000  390.000000      390.000000  390.000000   \n",
       "mean    207.230769  107.338462   50.266667        4.524615   46.774359   \n",
       "std      44.666005   53.798188   17.279069        1.736634   16.435911   \n",
       "min      78.000000   48.000000   12.000000        1.500000   19.000000   \n",
       "25%     179.000000   81.000000   38.000000        3.200000   34.000000   \n",
       "50%     203.000000   90.000000   46.000000        4.200000   44.500000   \n",
       "75%     229.000000  107.750000   59.000000        5.400000   60.000000   \n",
       "max     443.000000  385.000000  120.000000       19.300000   92.000000   \n",
       "\n",
       "           gender      height      weight         bmi  systolic_bp  \\\n",
       "count  390.000000  390.000000  390.000000  390.000000   390.000000   \n",
       "mean     0.415385   65.951282  177.407692   28.775641   137.133333   \n",
       "std      0.493421    3.918867   40.407824    6.600915    22.859528   \n",
       "min      0.000000   52.000000   99.000000   15.200000    90.000000   \n",
       "25%      0.000000   63.000000  150.250000   24.100000   122.000000   \n",
       "50%      0.000000   66.000000  173.000000   27.800000   136.000000   \n",
       "75%      1.000000   69.000000  200.000000   32.275000   148.000000   \n",
       "max      1.000000   76.000000  325.000000   55.800000   250.000000   \n",
       "\n",
       "       diastolic_bp       waist         hip  waist_hip_ratio    diabetes  \n",
       "count    390.000000  390.000000  390.000000       390.000000  390.000000  \n",
       "mean      83.289744   37.869231   42.992308         0.881385    0.153846  \n",
       "std       13.498192    5.760947    5.664342         0.073212    0.361265  \n",
       "min       48.000000   26.000000   30.000000         0.680000    0.000000  \n",
       "25%       75.000000   33.000000   39.000000         0.830000    0.000000  \n",
       "50%       82.000000   37.000000   42.000000         0.880000    0.000000  \n",
       "75%       90.000000   41.000000   46.000000         0.930000    0.000000  \n",
       "max      124.000000   56.000000   64.000000         1.140000    1.000000  "
      ]
     },
     "execution_count": 9,
     "metadata": {},
     "output_type": "execute_result"
    }
   ],
   "source": [
    "\n",
    "df.describe()"
   ]
  },
  {
   "cell_type": "code",
   "execution_count": 10,
   "id": "11a80044",
   "metadata": {},
   "outputs": [
    {
     "data": {
      "text/plain": [
       "0    330\n",
       "1     60\n",
       "Name: diabetes, dtype: int64"
      ]
     },
     "execution_count": 10,
     "metadata": {},
     "output_type": "execute_result"
    }
   ],
   "source": [
    "df['diabetes'].value_counts()"
   ]
  },
  {
   "cell_type": "code",
   "execution_count": 11,
   "id": "3cc435e6",
   "metadata": {},
   "outputs": [
    {
     "data": {
      "text/plain": [
       "<AxesSubplot:xlabel='diabetes', ylabel='count'>"
      ]
     },
     "execution_count": 11,
     "metadata": {},
     "output_type": "execute_result"
    },
    {
     "data": {
      "image/png": "[encoded data removed]",
      "text/plain": [
       "<Figure size 432x288 with 1 Axes>"
      ]
     },
     "metadata": {
      "needs_background": "light"
     },
     "output_type": "display_data"
    }
   ],
   "source": [
    "sns.countplot(df['diabetes'])"
   ]
  },
  {
   "cell_type": "code",
   "execution_count": 12,
   "id": "14697d85",
   "metadata": {},
   "outputs": [
    {
     "data": {
      "text/plain": [
       "0      0\n",
       "1      0\n",
       "2      0\n",
       "3      0\n",
       "4      0\n",
       "      ..\n",
       "385    0\n",
       "386    1\n",
       "387    0\n",
       "388    1\n",
       "389    0\n",
       "Name: diabetes, Length: 390, dtype: int32"
      ]
     },
     "execution_count": 12,
     "metadata": {},
     "output_type": "execute_result"
    }
   ],
   "source": [
    "y=df.diabetes\n",
    "y"
   ]
  },
  {
   "cell_type": "code",
   "execution_count": 13,
   "id": "0f13af2a",
   "metadata": {},
   "outputs": [
    {
     "data": {
      "text/html": [
       "<div>\n",
       "<style scoped>\n",
       "    .dataframe tbody tr th:only-of-type {\n",
       "        vertical-align: middle;\n",
       "    }\n",
       "\n",
       "    .dataframe tbody tr th {\n",
       "        vertical-align: top;\n",
       "    }\n",
       "\n",
       "    .dataframe thead th {\n",
       "        text-align: right;\n",
       "    }\n",
       "</style>\n",
       "<table border=\"1\" class=\"dataframe\">\n",
       "  <thead>\n",
       "    <tr style=\"text-align: right;\">\n",
       "      <th></th>\n",
       "      <th>cholesterol</th>\n",
       "      <th>glucose</th>\n",
       "      <th>hdl_chol</th>\n",
       "      <th>chol_hdl_ratio</th>\n",
       "      <th>age</th>\n",
       "      <th>gender</th>\n",
       "      <th>height</th>\n",
       "      <th>weight</th>\n",
       "      <th>bmi</th>\n",
       "      <th>systolic_bp</th>\n",
       "      <th>diastolic_bp</th>\n",
       "      <th>waist</th>\n",
       "      <th>hip</th>\n",
       "      <th>waist_hip_ratio</th>\n",
       "    </tr>\n",
       "  </thead>\n",
       "  <tbody>\n",
       "    <tr>\n",
       "      <th>0</th>\n",
       "      <td>193</td>\n",
       "      <td>77</td>\n",
       "      <td>49</td>\n",
       "      <td>3.9</td>\n",
       "      <td>19</td>\n",
       "      <td>0</td>\n",
       "      <td>61</td>\n",
       "      <td>119</td>\n",
       "      <td>22.5</td>\n",
       "      <td>118</td>\n",
       "      <td>70</td>\n",
       "      <td>32</td>\n",
       "      <td>38</td>\n",
       "      <td>0.84</td>\n",
       "    </tr>\n",
       "    <tr>\n",
       "      <th>1</th>\n",
       "      <td>146</td>\n",
       "      <td>79</td>\n",
       "      <td>41</td>\n",
       "      <td>3.6</td>\n",
       "      <td>19</td>\n",
       "      <td>0</td>\n",
       "      <td>60</td>\n",
       "      <td>135</td>\n",
       "      <td>26.4</td>\n",
       "      <td>108</td>\n",
       "      <td>58</td>\n",
       "      <td>33</td>\n",
       "      <td>40</td>\n",
       "      <td>0.83</td>\n",
       "    </tr>\n",
       "    <tr>\n",
       "      <th>2</th>\n",
       "      <td>217</td>\n",
       "      <td>75</td>\n",
       "      <td>54</td>\n",
       "      <td>4.0</td>\n",
       "      <td>20</td>\n",
       "      <td>0</td>\n",
       "      <td>67</td>\n",
       "      <td>187</td>\n",
       "      <td>29.3</td>\n",
       "      <td>110</td>\n",
       "      <td>72</td>\n",
       "      <td>40</td>\n",
       "      <td>45</td>\n",
       "      <td>0.89</td>\n",
       "    </tr>\n",
       "    <tr>\n",
       "      <th>3</th>\n",
       "      <td>226</td>\n",
       "      <td>97</td>\n",
       "      <td>70</td>\n",
       "      <td>3.2</td>\n",
       "      <td>20</td>\n",
       "      <td>0</td>\n",
       "      <td>64</td>\n",
       "      <td>114</td>\n",
       "      <td>19.6</td>\n",
       "      <td>122</td>\n",
       "      <td>64</td>\n",
       "      <td>31</td>\n",
       "      <td>39</td>\n",
       "      <td>0.79</td>\n",
       "    </tr>\n",
       "    <tr>\n",
       "      <th>4</th>\n",
       "      <td>164</td>\n",
       "      <td>91</td>\n",
       "      <td>67</td>\n",
       "      <td>2.4</td>\n",
       "      <td>20</td>\n",
       "      <td>0</td>\n",
       "      <td>70</td>\n",
       "      <td>141</td>\n",
       "      <td>20.2</td>\n",
       "      <td>122</td>\n",
       "      <td>86</td>\n",
       "      <td>32</td>\n",
       "      <td>39</td>\n",
       "      <td>0.82</td>\n",
       "    </tr>\n",
       "    <tr>\n",
       "      <th>...</th>\n",
       "      <td>...</td>\n",
       "      <td>...</td>\n",
       "      <td>...</td>\n",
       "      <td>...</td>\n",
       "      <td>...</td>\n",
       "      <td>...</td>\n",
       "      <td>...</td>\n",
       "      <td>...</td>\n",
       "      <td>...</td>\n",
       "      <td>...</td>\n",
       "      <td>...</td>\n",
       "      <td>...</td>\n",
       "      <td>...</td>\n",
       "      <td>...</td>\n",
       "    </tr>\n",
       "    <tr>\n",
       "      <th>385</th>\n",
       "      <td>227</td>\n",
       "      <td>105</td>\n",
       "      <td>44</td>\n",
       "      <td>5.2</td>\n",
       "      <td>83</td>\n",
       "      <td>0</td>\n",
       "      <td>59</td>\n",
       "      <td>125</td>\n",
       "      <td>25.2</td>\n",
       "      <td>150</td>\n",
       "      <td>90</td>\n",
       "      <td>35</td>\n",
       "      <td>40</td>\n",
       "      <td>0.88</td>\n",
       "    </tr>\n",
       "    <tr>\n",
       "      <th>386</th>\n",
       "      <td>226</td>\n",
       "      <td>279</td>\n",
       "      <td>52</td>\n",
       "      <td>4.3</td>\n",
       "      <td>84</td>\n",
       "      <td>0</td>\n",
       "      <td>60</td>\n",
       "      <td>192</td>\n",
       "      <td>37.5</td>\n",
       "      <td>144</td>\n",
       "      <td>88</td>\n",
       "      <td>41</td>\n",
       "      <td>48</td>\n",
       "      <td>0.85</td>\n",
       "    </tr>\n",
       "    <tr>\n",
       "      <th>387</th>\n",
       "      <td>301</td>\n",
       "      <td>90</td>\n",
       "      <td>118</td>\n",
       "      <td>2.6</td>\n",
       "      <td>89</td>\n",
       "      <td>0</td>\n",
       "      <td>61</td>\n",
       "      <td>115</td>\n",
       "      <td>21.7</td>\n",
       "      <td>218</td>\n",
       "      <td>90</td>\n",
       "      <td>31</td>\n",
       "      <td>41</td>\n",
       "      <td>0.76</td>\n",
       "    </tr>\n",
       "    <tr>\n",
       "      <th>388</th>\n",
       "      <td>232</td>\n",
       "      <td>184</td>\n",
       "      <td>114</td>\n",
       "      <td>2.0</td>\n",
       "      <td>91</td>\n",
       "      <td>0</td>\n",
       "      <td>61</td>\n",
       "      <td>127</td>\n",
       "      <td>24.0</td>\n",
       "      <td>170</td>\n",
       "      <td>82</td>\n",
       "      <td>35</td>\n",
       "      <td>38</td>\n",
       "      <td>0.92</td>\n",
       "    </tr>\n",
       "    <tr>\n",
       "      <th>389</th>\n",
       "      <td>165</td>\n",
       "      <td>94</td>\n",
       "      <td>69</td>\n",
       "      <td>2.4</td>\n",
       "      <td>92</td>\n",
       "      <td>0</td>\n",
       "      <td>62</td>\n",
       "      <td>217</td>\n",
       "      <td>39.7</td>\n",
       "      <td>160</td>\n",
       "      <td>82</td>\n",
       "      <td>51</td>\n",
       "      <td>51</td>\n",
       "      <td>1.00</td>\n",
       "    </tr>\n",
       "  </tbody>\n",
       "</table>\n",
       "<p>390 rows × 14 columns</p>\n",
       "</div>"
      ],
      "text/plain": [
       "     cholesterol  glucose  hdl_chol  chol_hdl_ratio  age  gender  height  \\\n",
       "0            193       77        49             3.9   19       0      61   \n",
       "1            146       79        41             3.6   19       0      60   \n",
       "2            217       75        54             4.0   20       0      67   \n",
       "3            226       97        70             3.2   20       0      64   \n",
       "4            164       91        67             2.4   20       0      70   \n",
       "..           ...      ...       ...             ...  ...     ...     ...   \n",
       "385          227      105        44             5.2   83       0      59   \n",
       "386          226      279        52             4.3   84       0      60   \n",
       "387          301       90       118             2.6   89       0      61   \n",
       "388          232      184       114             2.0   91       0      61   \n",
       "389          165       94        69             2.4   92       0      62   \n",
       "\n",
       "     weight   bmi  systolic_bp  diastolic_bp  waist  hip  waist_hip_ratio  \n",
       "0       119  22.5          118            70     32   38             0.84  \n",
       "1       135  26.4          108            58     33   40             0.83  \n",
       "2       187  29.3          110            72     40   45             0.89  \n",
       "3       114  19.6          122            64     31   39             0.79  \n",
       "4       141  20.2          122            86     32   39             0.82  \n",
       "..      ...   ...          ...           ...    ...  ...              ...  \n",
       "385     125  25.2          150            90     35   40             0.88  \n",
       "386     192  37.5          144            88     41   48             0.85  \n",
       "387     115  21.7          218            90     31   41             0.76  \n",
       "388     127  24.0          170            82     35   38             0.92  \n",
       "389     217  39.7          160            82     51   51             1.00  \n",
       "\n",
       "[390 rows x 14 columns]"
      ]
     },
     "execution_count": 13,
     "metadata": {},
     "output_type": "execute_result"
    }
   ],
   "source": [
    "x=df.drop(['diabetes'], axis=1)\n",
    "x"
   ]
  },
  {
   "cell_type": "code",
   "execution_count": 14,
   "id": "547815c2",
   "metadata": {},
   "outputs": [
    {
     "data": {
      "image/png": "[encoded data removed]",
      "text/plain": [
       "<Figure size 360x360 with 1 Axes>"
      ]
     },
     "metadata": {
      "needs_background": "light"
     },
     "output_type": "display_data"
    }
   ],
   "source": [
    "ax=sns.displot(data=df,x=\"age\")"
   ]
  },
  {
   "cell_type": "code",
   "execution_count": 15,
   "id": "6eac667f",
   "metadata": {},
   "outputs": [
    {
     "data": {
      "image/png": "[encoded data removed]",
      "text/plain": [
       "<Figure size 432x288 with 1 Axes>"
      ]
     },
     "metadata": {
      "needs_background": "light"
     },
     "output_type": "display_data"
    }
   ],
   "source": [
    "# from sklearn.preprocessing import LabelEncoder\n",
    "ax=sns.countplot(data=df,x=\"gender\",)"
   ]
  },
  {
   "cell_type": "code",
   "execution_count": 16,
   "id": "05bd41a1",
   "metadata": {},
   "outputs": [],
   "source": [
    "# labelencoder_X=LabelEncoder()\n",
    "# ax=sns.countplot(data=df,x=\"diabetes\",)"
   ]
  },
  {
   "cell_type": "code",
   "execution_count": 17,
   "id": "0f3105aa",
   "metadata": {},
   "outputs": [],
   "source": [
    "from sklearn.tree import DecisionTreeClassifier # Import Decision Tree Classifier\n",
    "from sklearn.model_selection import train_test_split # Import train_test_split function\n",
    "x_train, x_test, y_train, y_test = train_test_split(x, y, test_size=0.2, random_state=1)"
   ]
  },
  {
   "cell_type": "code",
   "execution_count": 18,
   "id": "c2fe9e97",
   "metadata": {},
   "outputs": [],
   "source": [
    "# Create Decision Tree classifer object\n",
    "model = DecisionTreeClassifier()\n",
    "\n",
    "# Train Decision Tree Classifer\n",
    "model= model.fit(x_train,y_train)\n",
    "\n",
    "#Predict the response for test dataset\n",
    "y_pred = model.predict(x_test)"
   ]
  },
  {
   "cell_type": "code",
   "execution_count": 19,
   "id": "6b0f5cc5",
   "metadata": {},
   "outputs": [],
   "source": [
    "tr_pred= model.predict(x_train)"
   ]
  },
  {
   "cell_type": "code",
   "execution_count": 20,
   "id": "fe91b8b1",
   "metadata": {},
   "outputs": [
    {
     "name": "stdout",
     "output_type": "stream",
     "text": [
      "Accuracy: 87.17948717948718\n"
     ]
    }
   ],
   "source": [
    "##Evaluation using Accuracy score\n",
    "from sklearn import metrics #Import scikit-learn metrics module for accuracy calculation\n",
    "print(\"Accuracy:\",metrics.accuracy_score(y_test, y_pred)*100)"
   ]
  },
  {
   "cell_type": "code",
   "execution_count": 21,
   "id": "c38178b0",
   "metadata": {},
   "outputs": [
    {
     "name": "stdout",
     "output_type": "stream",
     "text": [
      "Accuracy: 100.0\n"
     ]
    }
   ],
   "source": [
    "##Evaluation using Accuracy score\n",
    "from sklearn import metrics #Import scikit-learn metrics module for accuracy calculation\n",
    "print(\"Accuracy:\",metrics.accuracy_score(y_train, tr_pred)*100)"
   ]
  },
  {
   "cell_type": "code",
   "execution_count": 22,
   "id": "7a0e5062",
   "metadata": {},
   "outputs": [
    {
     "data": {
      "text/plain": [
       "(78,)"
      ]
     },
     "execution_count": 22,
     "metadata": {},
     "output_type": "execute_result"
    }
   ],
   "source": [
    "# from sklearn.tree import DecisionTreeClassifier\n",
    "y_test.shape"
   ]
  },
  {
   "cell_type": "code",
   "execution_count": 23,
   "id": "815a0f27",
   "metadata": {},
   "outputs": [
    {
     "data": {
      "text/plain": [
       "(312,)"
      ]
     },
     "execution_count": 23,
     "metadata": {},
     "output_type": "execute_result"
    }
   ],
   "source": [
    "y_train.shape"
   ]
  },
  {
   "cell_type": "code",
   "execution_count": 24,
   "id": "6addee82",
   "metadata": {},
   "outputs": [
    {
     "data": {
      "text/plain": [
       "0.8717948717948718"
      ]
     },
     "execution_count": 24,
     "metadata": {},
     "output_type": "execute_result"
    }
   ],
   "source": [
    "# accuracy \n",
    "from sklearn.metrics import accuracy_score\n",
    "\n",
    "accuracy_score(y_test, y_pred)"
   ]
  },
  {
   "cell_type": "code",
   "execution_count": 25,
   "id": "fee09851",
   "metadata": {
    "scrolled": true
   },
   "outputs": [
    {
     "data": {
      "text/plain": [
       "0      0\n",
       "1      0\n",
       "2      0\n",
       "3      0\n",
       "4      0\n",
       "      ..\n",
       "385    0\n",
       "386    1\n",
       "387    0\n",
       "388    1\n",
       "389    0\n",
       "Name: diabetes, Length: 390, dtype: int32"
      ]
     },
     "execution_count": 25,
     "metadata": {},
     "output_type": "execute_result"
    }
   ],
   "source": [
    "y=df.diabetes\n",
    "y"
   ]
  },
  {
   "cell_type": "code",
   "execution_count": 26,
   "id": "1d5953d6",
   "metadata": {},
   "outputs": [
    {
     "data": {
      "text/plain": [
       "array([[58,  5],\n",
       "       [ 5, 10]], dtype=int64)"
      ]
     },
     "execution_count": 26,
     "metadata": {},
     "output_type": "execute_result"
    }
   ],
   "source": [
    "#Evaluation using Confusion matrix\n",
    "from sklearn.metrics import confusion_matrix\n",
    "confusion_matrix(y_test,y_pred)"
   ]
  },
  {
   "cell_type": "code",
   "execution_count": 27,
   "id": "d84cf307",
   "metadata": {},
   "outputs": [
    {
     "name": "stdout",
     "output_type": "stream",
     "text": [
      "              precision    recall  f1-score   support\n",
      "\n",
      "           0       0.92      0.92      0.92        63\n",
      "           1       0.67      0.67      0.67        15\n",
      "\n",
      "    accuracy                           0.87        78\n",
      "   macro avg       0.79      0.79      0.79        78\n",
      "weighted avg       0.87      0.87      0.87        78\n",
      "\n"
     ]
    }
   ],
   "source": [
    "#Evaluation using Classification report\n",
    "from sklearn.metrics import classification_report\n",
    "print(classification_report(y_test,y_pred))"
   ]
  },
  {
   "cell_type": "code",
   "execution_count": 28,
   "id": "7644c7d3",
   "metadata": {},
   "outputs": [
    {
     "data": {
      "text/plain": [
       "array([0])"
      ]
     },
     "execution_count": 28,
     "metadata": {},
     "output_type": "execute_result"
    }
   ],
   "source": [
    "#checking prediction value\n",
    "model.predict([[1,90,49,3.9,15,0,81,120,22.5,118,90,35,40,0.9]])"
   ]
  },
  {
   "cell_type": "code",
   "execution_count": 29,
   "id": "07cd4cf9",
   "metadata": {},
   "outputs": [
    {
     "data": {
      "text/plain": [
       "array([1])"
      ]
     },
     "execution_count": 29,
     "metadata": {},
     "output_type": "execute_result"
    }
   ],
   "source": [
    "model.predict([[194,269,38,5.1, 29,1,69,167,24.7,120,70,3,40,0.83]])"
   ]
  },
  {
   "cell_type": "code",
   "execution_count": 30,
   "id": "9b18fa62",
   "metadata": {},
   "outputs": [
    {
     "name": "stdout",
     "output_type": "stream",
     "text": [
      "Requirement already satisfied: six in c:\\users\\dell\\anaconda3\\lib\\site-packages (1.15.0)\n"
     ]
    }
   ],
   "source": [
    "!pip install six"
   ]
  },
  {
   "cell_type": "code",
   "execution_count": null,
   "id": "20cf5b10",
   "metadata": {},
   "outputs": [],
   "source": []
  },
  {
   "cell_type": "code",
   "execution_count": 31,
   "id": "e59a20a3",
   "metadata": {},
   "outputs": [
    {
     "name": "stdout",
     "output_type": "stream",
     "text": [
      "Accuracy: 91.02564102564102\n"
     ]
    }
   ],
   "source": [
    "# Create Decision Tree classifer object\n",
    "model = DecisionTreeClassifier(criterion=\"entropy\", max_depth=3)\n",
    "\n",
    "# Train Decision Tree Classifer\n",
    "model = model.fit(x_train,y_train)\n",
    "\n",
    "#Predict the response for test dataset\n",
    "y_pred = model.predict(x_test)\n",
    "\n",
    "# Model Accuracy\n",
    "print(\"Accuracy:\",metrics.accuracy_score(y_test, y_pred)*100)"
   ]
  },
  {
   "cell_type": "code",
   "execution_count": 32,
   "id": "5eaf262e",
   "metadata": {},
   "outputs": [],
   "source": [
    "# df_importance=pd.DataFrame({'Features':x.columns,'Importances': model.feature_importances_})\n",
    "# df_importance"
   ]
  },
  {
   "cell_type": "code",
   "execution_count": 33,
   "id": "e51c8464",
   "metadata": {},
   "outputs": [
    {
     "data": {
      "text/html": [
       "<div>\n",
       "<style scoped>\n",
       "    .dataframe tbody tr th:only-of-type {\n",
       "        vertical-align: middle;\n",
       "    }\n",
       "\n",
       "    .dataframe tbody tr th {\n",
       "        vertical-align: top;\n",
       "    }\n",
       "\n",
       "    .dataframe thead th {\n",
       "        text-align: right;\n",
       "    }\n",
       "</style>\n",
       "<table border=\"1\" class=\"dataframe\">\n",
       "  <thead>\n",
       "    <tr style=\"text-align: right;\">\n",
       "      <th></th>\n",
       "      <th>cholesterol</th>\n",
       "      <th>glucose</th>\n",
       "      <th>hdl_chol</th>\n",
       "      <th>chol_hdl_ratio</th>\n",
       "      <th>age</th>\n",
       "      <th>gender</th>\n",
       "      <th>height</th>\n",
       "      <th>weight</th>\n",
       "      <th>bmi</th>\n",
       "      <th>systolic_bp</th>\n",
       "      <th>diastolic_bp</th>\n",
       "      <th>waist</th>\n",
       "      <th>hip</th>\n",
       "      <th>waist_hip_ratio</th>\n",
       "      <th>diabetes</th>\n",
       "    </tr>\n",
       "  </thead>\n",
       "  <tbody>\n",
       "    <tr>\n",
       "      <th>cholesterol</th>\n",
       "      <td>1.000000</td>\n",
       "      <td>0.158102</td>\n",
       "      <td>0.193162</td>\n",
       "      <td>0.475927</td>\n",
       "      <td>0.247333</td>\n",
       "      <td>-0.030139</td>\n",
       "      <td>-0.063601</td>\n",
       "      <td>0.062359</td>\n",
       "      <td>0.091695</td>\n",
       "      <td>0.207741</td>\n",
       "      <td>0.166241</td>\n",
       "      <td>0.134038</td>\n",
       "      <td>0.093364</td>\n",
       "      <td>0.091847</td>\n",
       "      <td>0.204262</td>\n",
       "    </tr>\n",
       "    <tr>\n",
       "      <th>glucose</th>\n",
       "      <td>0.158102</td>\n",
       "      <td>1.000000</td>\n",
       "      <td>-0.158302</td>\n",
       "      <td>0.282210</td>\n",
       "      <td>0.294392</td>\n",
       "      <td>0.093372</td>\n",
       "      <td>0.098052</td>\n",
       "      <td>0.190358</td>\n",
       "      <td>0.129286</td>\n",
       "      <td>0.162777</td>\n",
       "      <td>0.020262</td>\n",
       "      <td>0.222336</td>\n",
       "      <td>0.138223</td>\n",
       "      <td>0.185117</td>\n",
       "      <td>0.689080</td>\n",
       "    </tr>\n",
       "    <tr>\n",
       "      <th>hdl_chol</th>\n",
       "      <td>0.193162</td>\n",
       "      <td>-0.158302</td>\n",
       "      <td>1.000000</td>\n",
       "      <td>-0.681867</td>\n",
       "      <td>0.028210</td>\n",
       "      <td>-0.108305</td>\n",
       "      <td>-0.087238</td>\n",
       "      <td>-0.291883</td>\n",
       "      <td>-0.241860</td>\n",
       "      <td>0.031807</td>\n",
       "      <td>0.078342</td>\n",
       "      <td>-0.276697</td>\n",
       "      <td>-0.223837</td>\n",
       "      <td>-0.158777</td>\n",
       "      <td>-0.123133</td>\n",
       "    </tr>\n",
       "    <tr>\n",
       "      <th>chol_hdl_ratio</th>\n",
       "      <td>0.475927</td>\n",
       "      <td>0.282210</td>\n",
       "      <td>-0.681867</td>\n",
       "      <td>1.000000</td>\n",
       "      <td>0.163201</td>\n",
       "      <td>0.102938</td>\n",
       "      <td>0.081162</td>\n",
       "      <td>0.278812</td>\n",
       "      <td>0.228407</td>\n",
       "      <td>0.115505</td>\n",
       "      <td>0.038242</td>\n",
       "      <td>0.313262</td>\n",
       "      <td>0.208902</td>\n",
       "      <td>0.243329</td>\n",
       "      <td>0.272987</td>\n",
       "    </tr>\n",
       "    <tr>\n",
       "      <th>age</th>\n",
       "      <td>0.247333</td>\n",
       "      <td>0.294392</td>\n",
       "      <td>0.028210</td>\n",
       "      <td>0.163201</td>\n",
       "      <td>1.000000</td>\n",
       "      <td>0.084177</td>\n",
       "      <td>-0.082229</td>\n",
       "      <td>-0.056784</td>\n",
       "      <td>-0.009164</td>\n",
       "      <td>0.453417</td>\n",
       "      <td>0.068649</td>\n",
       "      <td>0.150585</td>\n",
       "      <td>0.004675</td>\n",
       "      <td>0.275188</td>\n",
       "      <td>0.301995</td>\n",
       "    </tr>\n",
       "    <tr>\n",
       "      <th>gender</th>\n",
       "      <td>-0.030139</td>\n",
       "      <td>0.093372</td>\n",
       "      <td>-0.108305</td>\n",
       "      <td>0.102938</td>\n",
       "      <td>0.084177</td>\n",
       "      <td>1.000000</td>\n",
       "      <td>0.677876</td>\n",
       "      <td>0.092053</td>\n",
       "      <td>-0.254189</td>\n",
       "      <td>0.035417</td>\n",
       "      <td>0.071043</td>\n",
       "      <td>-0.045955</td>\n",
       "      <td>-0.272028</td>\n",
       "      <td>0.346253</td>\n",
       "      <td>0.015531</td>\n",
       "    </tr>\n",
       "    <tr>\n",
       "      <th>height</th>\n",
       "      <td>-0.063601</td>\n",
       "      <td>0.098052</td>\n",
       "      <td>-0.087238</td>\n",
       "      <td>0.081162</td>\n",
       "      <td>-0.082229</td>\n",
       "      <td>0.677876</td>\n",
       "      <td>1.000000</td>\n",
       "      <td>0.255389</td>\n",
       "      <td>-0.259589</td>\n",
       "      <td>-0.040704</td>\n",
       "      <td>0.043617</td>\n",
       "      <td>0.057447</td>\n",
       "      <td>-0.095906</td>\n",
       "      <td>0.252548</td>\n",
       "      <td>0.023466</td>\n",
       "    </tr>\n",
       "    <tr>\n",
       "      <th>weight</th>\n",
       "      <td>0.062359</td>\n",
       "      <td>0.190358</td>\n",
       "      <td>-0.291883</td>\n",
       "      <td>0.278812</td>\n",
       "      <td>-0.056784</td>\n",
       "      <td>0.092053</td>\n",
       "      <td>0.255389</td>\n",
       "      <td>1.000000</td>\n",
       "      <td>0.860147</td>\n",
       "      <td>0.097497</td>\n",
       "      <td>0.166477</td>\n",
       "      <td>0.847766</td>\n",
       "      <td>0.826985</td>\n",
       "      <td>0.250461</td>\n",
       "      <td>0.162987</td>\n",
       "    </tr>\n",
       "    <tr>\n",
       "      <th>bmi</th>\n",
       "      <td>0.091695</td>\n",
       "      <td>0.129286</td>\n",
       "      <td>-0.241860</td>\n",
       "      <td>0.228407</td>\n",
       "      <td>-0.009164</td>\n",
       "      <td>-0.254189</td>\n",
       "      <td>-0.259589</td>\n",
       "      <td>0.860147</td>\n",
       "      <td>1.000000</td>\n",
       "      <td>0.121408</td>\n",
       "      <td>0.145304</td>\n",
       "      <td>0.810701</td>\n",
       "      <td>0.881728</td>\n",
       "      <td>0.100873</td>\n",
       "      <td>0.145274</td>\n",
       "    </tr>\n",
       "    <tr>\n",
       "      <th>systolic_bp</th>\n",
       "      <td>0.207741</td>\n",
       "      <td>0.162777</td>\n",
       "      <td>0.031807</td>\n",
       "      <td>0.115505</td>\n",
       "      <td>0.453417</td>\n",
       "      <td>0.035417</td>\n",
       "      <td>-0.040704</td>\n",
       "      <td>0.097497</td>\n",
       "      <td>0.121408</td>\n",
       "      <td>1.000000</td>\n",
       "      <td>0.603662</td>\n",
       "      <td>0.210934</td>\n",
       "      <td>0.155321</td>\n",
       "      <td>0.137871</td>\n",
       "      <td>0.198600</td>\n",
       "    </tr>\n",
       "    <tr>\n",
       "      <th>diastolic_bp</th>\n",
       "      <td>0.166241</td>\n",
       "      <td>0.020262</td>\n",
       "      <td>0.078342</td>\n",
       "      <td>0.038242</td>\n",
       "      <td>0.068649</td>\n",
       "      <td>0.071043</td>\n",
       "      <td>0.043617</td>\n",
       "      <td>0.166477</td>\n",
       "      <td>0.145304</td>\n",
       "      <td>0.603662</td>\n",
       "      <td>1.000000</td>\n",
       "      <td>0.165846</td>\n",
       "      <td>0.143898</td>\n",
       "      <td>0.077918</td>\n",
       "      <td>0.049351</td>\n",
       "    </tr>\n",
       "    <tr>\n",
       "      <th>waist</th>\n",
       "      <td>0.134038</td>\n",
       "      <td>0.222336</td>\n",
       "      <td>-0.276697</td>\n",
       "      <td>0.313262</td>\n",
       "      <td>0.150585</td>\n",
       "      <td>-0.045955</td>\n",
       "      <td>0.057447</td>\n",
       "      <td>0.847766</td>\n",
       "      <td>0.810701</td>\n",
       "      <td>0.210934</td>\n",
       "      <td>0.165846</td>\n",
       "      <td>1.000000</td>\n",
       "      <td>0.835177</td>\n",
       "      <td>0.514177</td>\n",
       "      <td>0.223378</td>\n",
       "    </tr>\n",
       "    <tr>\n",
       "      <th>hip</th>\n",
       "      <td>0.093364</td>\n",
       "      <td>0.138223</td>\n",
       "      <td>-0.223837</td>\n",
       "      <td>0.208902</td>\n",
       "      <td>0.004675</td>\n",
       "      <td>-0.272028</td>\n",
       "      <td>-0.095906</td>\n",
       "      <td>0.826985</td>\n",
       "      <td>0.881728</td>\n",
       "      <td>0.155321</td>\n",
       "      <td>0.143898</td>\n",
       "      <td>0.835177</td>\n",
       "      <td>1.000000</td>\n",
       "      <td>-0.037664</td>\n",
       "      <td>0.143792</td>\n",
       "    </tr>\n",
       "    <tr>\n",
       "      <th>waist_hip_ratio</th>\n",
       "      <td>0.091847</td>\n",
       "      <td>0.185117</td>\n",
       "      <td>-0.158777</td>\n",
       "      <td>0.243329</td>\n",
       "      <td>0.275188</td>\n",
       "      <td>0.346253</td>\n",
       "      <td>0.252548</td>\n",
       "      <td>0.250461</td>\n",
       "      <td>0.100873</td>\n",
       "      <td>0.137871</td>\n",
       "      <td>0.077918</td>\n",
       "      <td>0.514177</td>\n",
       "      <td>-0.037664</td>\n",
       "      <td>1.000000</td>\n",
       "      <td>0.175623</td>\n",
       "    </tr>\n",
       "    <tr>\n",
       "      <th>diabetes</th>\n",
       "      <td>0.204262</td>\n",
       "      <td>0.689080</td>\n",
       "      <td>-0.123133</td>\n",
       "      <td>0.272987</td>\n",
       "      <td>0.301995</td>\n",
       "      <td>0.015531</td>\n",
       "      <td>0.023466</td>\n",
       "      <td>0.162987</td>\n",
       "      <td>0.145274</td>\n",
       "      <td>0.198600</td>\n",
       "      <td>0.049351</td>\n",
       "      <td>0.223378</td>\n",
       "      <td>0.143792</td>\n",
       "      <td>0.175623</td>\n",
       "      <td>1.000000</td>\n",
       "    </tr>\n",
       "  </tbody>\n",
       "</table>\n",
       "</div>"
      ],
      "text/plain": [
       "                 cholesterol   glucose  hdl_chol  chol_hdl_ratio       age  \\\n",
       "cholesterol         1.000000  0.158102  0.193162        0.475927  0.247333   \n",
       "glucose             0.158102  1.000000 -0.158302        0.282210  0.294392   \n",
       "hdl_chol            0.193162 -0.158302  1.000000       -0.681867  0.028210   \n",
       "chol_hdl_ratio      0.475927  0.282210 -0.681867        1.000000  0.163201   \n",
       "age                 0.247333  0.294392  0.028210        0.163201  1.000000   \n",
       "gender             -0.030139  0.093372 -0.108305        0.102938  0.084177   \n",
       "height             -0.063601  0.098052 -0.087238        0.081162 -0.082229   \n",
       "weight              0.062359  0.190358 -0.291883        0.278812 -0.056784   \n",
       "bmi                 0.091695  0.129286 -0.241860        0.228407 -0.009164   \n",
       "systolic_bp         0.207741  0.162777  0.031807        0.115505  0.453417   \n",
       "diastolic_bp        0.166241  0.020262  0.078342        0.038242  0.068649   \n",
       "waist               0.134038  0.222336 -0.276697        0.313262  0.150585   \n",
       "hip                 0.093364  0.138223 -0.223837        0.208902  0.004675   \n",
       "waist_hip_ratio     0.091847  0.185117 -0.158777        0.243329  0.275188   \n",
       "diabetes            0.204262  0.689080 -0.123133        0.272987  0.301995   \n",
       "\n",
       "                   gender    height    weight       bmi  systolic_bp  \\\n",
       "cholesterol     -0.030139 -0.063601  0.062359  0.091695     0.207741   \n",
       "glucose          0.093372  0.098052  0.190358  0.129286     0.162777   \n",
       "hdl_chol        -0.108305 -0.087238 -0.291883 -0.241860     0.031807   \n",
       "chol_hdl_ratio   0.102938  0.081162  0.278812  0.228407     0.115505   \n",
       "age              0.084177 -0.082229 -0.056784 -0.009164     0.453417   \n",
       "gender           1.000000  0.677876  0.092053 -0.254189     0.035417   \n",
       "height           0.677876  1.000000  0.255389 -0.259589    -0.040704   \n",
       "weight           0.092053  0.255389  1.000000  0.860147     0.097497   \n",
       "bmi             -0.254189 -0.259589  0.860147  1.000000     0.121408   \n",
       "systolic_bp      0.035417 -0.040704  0.097497  0.121408     1.000000   \n",
       "diastolic_bp     0.071043  0.043617  0.166477  0.145304     0.603662   \n",
       "waist           -0.045955  0.057447  0.847766  0.810701     0.210934   \n",
       "hip             -0.272028 -0.095906  0.826985  0.881728     0.155321   \n",
       "waist_hip_ratio  0.346253  0.252548  0.250461  0.100873     0.137871   \n",
       "diabetes         0.015531  0.023466  0.162987  0.145274     0.198600   \n",
       "\n",
       "                 diastolic_bp     waist       hip  waist_hip_ratio  diabetes  \n",
       "cholesterol          0.166241  0.134038  0.093364         0.091847  0.204262  \n",
       "glucose              0.020262  0.222336  0.138223         0.185117  0.689080  \n",
       "hdl_chol             0.078342 -0.276697 -0.223837        -0.158777 -0.123133  \n",
       "chol_hdl_ratio       0.038242  0.313262  0.208902         0.243329  0.272987  \n",
       "age                  0.068649  0.150585  0.004675         0.275188  0.301995  \n",
       "gender               0.071043 -0.045955 -0.272028         0.346253  0.015531  \n",
       "height               0.043617  0.057447 -0.095906         0.252548  0.023466  \n",
       "weight               0.166477  0.847766  0.826985         0.250461  0.162987  \n",
       "bmi                  0.145304  0.810701  0.881728         0.100873  0.145274  \n",
       "systolic_bp          0.603662  0.210934  0.155321         0.137871  0.198600  \n",
       "diastolic_bp         1.000000  0.165846  0.143898         0.077918  0.049351  \n",
       "waist                0.165846  1.000000  0.835177         0.514177  0.223378  \n",
       "hip                  0.143898  0.835177  1.000000        -0.037664  0.143792  \n",
       "waist_hip_ratio      0.077918  0.514177 -0.037664         1.000000  0.175623  \n",
       "diabetes             0.049351  0.223378  0.143792         0.175623  1.000000  "
      ]
     },
     "execution_count": 33,
     "metadata": {},
     "output_type": "execute_result"
    }
   ],
   "source": [
    "df.corr()"
   ]
  },
  {
   "cell_type": "code",
   "execution_count": 34,
   "id": "d4f53489",
   "metadata": {},
   "outputs": [
    {
     "data": {
      "text/plain": [
       "<AxesSubplot:>"
      ]
     },
     "execution_count": 34,
     "metadata": {},
     "output_type": "execute_result"
    },
    {
     "data": {
      "image/png": "[encoded data removed]",
      "text/plain": [
       "<Figure size 720x720 with 2 Axes>"
      ]
     },
     "metadata": {
      "needs_background": "light"
     },
     "output_type": "display_data"
    }
   ],
   "source": [
    "plt.figure(figsize=(10,10))\n",
    "sns.heatmap(df.corr(), annot=True, fmt=\".0%\")"
   ]
  },
  {
   "cell_type": "code",
   "execution_count": 35,
   "id": "18ea8522",
   "metadata": {},
   "outputs": [
    {
     "data": {
      "text/plain": [
       "<AxesSubplot:xlabel='age', ylabel='count'>"
      ]
     },
     "execution_count": 35,
     "metadata": {},
     "output_type": "execute_result"
    },
    {
     "data": {
      "image/png": "[encoded data removed]",
      "text/plain": [
       "<Figure size 432x288 with 1 Axes>"
      ]
     },
     "metadata": {
      "needs_background": "light"
     },
     "output_type": "display_data"
    }
   ],
   "source": [
    "sns.countplot(x=\"age\", hue=\"diabetes\", data=df, palette=\"colorblind\",\n",
    "              edgecolor= sns.color_palette(\"dark\", n_colors=1))"
   ]
  },
  {
   "cell_type": "code",
   "execution_count": 36,
   "id": "20402f6a",
   "metadata": {},
   "outputs": [
    {
     "data": {
      "text/plain": [
       "<AxesSubplot:xlabel='cholesterol', ylabel='count'>"
      ]
     },
     "execution_count": 36,
     "metadata": {},
     "output_type": "execute_result"
    },
    {
     "data": {
      "image/png": "[encoded data removed]",
      "text/plain": [
       "<Figure size 432x288 with 1 Axes>"
      ]
     },
     "metadata": {
      "needs_background": "light"
     },
     "output_type": "display_data"
    }
   ],
   "source": [
    "sns.countplot(x=\"cholesterol\", hue=\"diabetes\", data=df, palette=\"colorblind\", \n",
    "              edgecolor= sns.color_palette(\"dark\", n_colors=1))"
   ]
  },
  {
   "cell_type": "code",
   "execution_count": 37,
   "id": "92d3da30",
   "metadata": {},
   "outputs": [
    {
     "data": {
      "text/plain": [
       "<AxesSubplot:xlabel='weight', ylabel='Count'>"
      ]
     },
     "execution_count": 37,
     "metadata": {},
     "output_type": "execute_result"
    },
    {
     "data": {
      "image/png": "[encoded data removed]",
      "text/plain": [
       "<Figure size 432x288 with 1 Axes>"
      ]
     },
     "metadata": {
      "needs_background": "light"
     },
     "output_type": "display_data"
    }
   ],
   "source": [
    "sns.histplot(data=df, x=\"weight\")"
   ]
  },
  {
   "cell_type": "code",
   "execution_count": 38,
   "id": "8218c3c9",
   "metadata": {},
   "outputs": [],
   "source": [
    "import pickle\n",
    "pickle.dump(model,open(\"Diabetes_classifier.pickle\",'wb')) "
   ]
  },
  {
   "cell_type": "code",
   "execution_count": null,
   "id": "d198e23e",
   "metadata": {},
   "outputs": [],
   "source": []
  }
 ],
 "metadata": {
  "kernelspec": {
   "display_name": "Python 3",
   "language": "python",
   "name": "python3"
  },
  "language_info": {
   "codemirror_mode": {
    "name": "ipython",
    "version": 3
   },
   "file_extension": ".py",
   "mimetype": "text/x-python",
   "name": "python",
   "nbconvert_exporter": "python",
   "pygments_lexer": "ipython3",
   "version": "3.8.8"
  }
 },
 "nbformat": 4,
 "nbformat_minor": 5
}
